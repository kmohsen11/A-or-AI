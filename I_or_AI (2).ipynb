{
  "cells": [
    {
      "cell_type": "markdown",
      "metadata": {
        "id": "iy6-v6pByPhv"
      },
      "source": [
        "**The Task**"
      ]
    },
    {
      "cell_type": "markdown",
      "metadata": {
        "id": "yqfYaFkNnDcr"
      },
      "source": [
        " Here, we aim to conduct a classification task on our dataset. The objective is to correctly categorize the given messages into one of the two categories: 'user' or 'assistant'.\n",
        "\n",
        "To achieve this, I will be employing several models to evaluate their performance on the task:\n",
        "\n",
        "Logistic Regression: A statistical model used for predicting the probability of occurrence of an event. It's simple yet effective for binary classification tasks.\n",
        "\n",
        "Neural Network: A set of algorithms, modeled loosely after the human brain, designed to recognize patterns. Suitable for complex data.\n",
        "\n",
        "Random Forest: An ensemble learning method, which creates a 'forest' of decision trees and outputs the mode of the classes.\n",
        "\n",
        "Extra Trees Classifier: Like a Random Forest, but it uses the whole dataset to train each tree and uses random thresholds for splitting test conditions.\n",
        "\n",
        "\n",
        "For data splitting, I will be splitting the data separately for each model to avoid any unexcpected results or misprocessing of the data.\n"
      ]
    },
    {
      "cell_type": "markdown",
      "metadata": {
        "id": "DvEjY_CQzK4G"
      },
      "source": [
        "**Model Selection**"
      ]
    },
    {
      "cell_type": "markdown",
      "metadata": {
        "id": "xwS9m2s6zV9O"
      },
      "source": [
        "Commented codes will be provided separately for each model used.\n",
        "For the mathematical underpinnings of each model:\n",
        "\n",
        "**1- The logisitc regression model**:\n",
        "We'll be using it as it perfroms binary classification. It estimates the probability $P(Y=1|X)$ given a set of indepenedent variable X.\n",
        "The equation for it is:\n",
        "\n",
        "  $P(Y=1|X) = 1/(1+e^-(B0+B1X))$\n",
        "\n",
        "where\n",
        "- $P(Y=1|X)$ is the probability of class 1 given input X\n",
        "- $B0$ is the intercept\n",
        "- $B1$ are the coefficients of the input features\n",
        "e is the base of natural logarithms.\n",
        "\n",
        "The output is a probability that the given input point belongs to class 1. It then converts this probability to a binary outcome via a threshold (e.g., 0.5).\n",
        "For Loss function, I'll be using cross entropy loss as it's the one used for most logistic regrssion model and it's built in in the library.\n",
        "The mathematical formula for it is\n",
        "$$L(Y,P) = -\\frac{1}{N} \\sum_{i=1}^{N} \\left[ y_i \\log(p_i) + (1-y_i) \\log(1-p_i) \\right]$$\n",
        "\n",
        "where\n",
        "- N is the number of observations\n",
        "- yi is the true label\n",
        "- pi is the predicted probability of the input to be in class 1.\n",
        "\n",
        "**2- Neural network**:\n",
        "Here, we'll be converting the message into a sequence of integers via vectorization, then we feed them into the embedding layer that transofrms each integer into a dense vector.\n",
        "\n",
        "Preprocessing and Text Tokenization:\n",
        "Textual data is tokenized, which means it is converted into a sequence of integers. Each unique word is mapped to a unique integer. If the text data has a wide range of unique words, we limit it to a set number (MAX_WORDS here).\n",
        "\n",
        "Post-tokenization, sequences can vary in length. Thus, sequences are padded (or truncated) to ensure a consistent length (MAX_LEN).\n",
        "\n",
        "Embedding Layer:\n",
        "This layer transforms each token (integer) into a dense vector of fixed size (embedding_dim), capturing the semantic meaning of the words. These vectors are learned as the model trains.\n",
        "\n",
        "Flatten Layer:\n",
        "After the embedding layer, the output is a 2D tensor. This layer reshapes the 2D tensor into a 1D tensor, preparing it for the dense layer.\n",
        "\n",
        "Dense Layers:\n",
        "The flattened vector is passed through one or more dense layers (also known as fully connected layers).\n",
        "In my model, The first dense layer has 32 units and uses the Rectified Linear Unit (ReLU) activation function.\n",
        "The final dense layer has as many units as there are unique senders, and it uses the softmax activation function to predict the sender of a message. Each unit in this layer outputs the probability that the message belongs to a particular sender.\n",
        "\n",
        "Loss Function:\n",
        "The model uses the sparse_categorical_crossentropy loss, suitable for multi-class classification where labels are integers. The loss function measures the difference between the predicted probabilities and the true classes and updates the model weights accordingly during training.\n",
        "Given:\n",
        "- $C$: Number of classes\n",
        "- $y$ : True class as an integer in $[0, C-1]$\n",
        "- $\\hat{y}$ : Vector of predicted probabilities of length $ C$ , outputted from a softmax layer in the neural network. Let's denote the probability of the $ i^{th}$  class as $\\hat{y}_i$ .\n",
        "\n",
        "The loss for one data point using the sparse categorical cross-entropy is:\n",
        "$$L(y, \\hat{y}) = -\\log(\\hat{y}_y)$$\n",
        "Here, $\\hat{y}_y$  denotes the predicted probability corresponding to the true class.\n",
        "\n",
        "For a batch of $N$  data points, the loss is averaged over all the data points:\n",
        "L = $-\\frac{1}{N} \\sum_{n=1}^{N}\\log(\\hat{y}^n_y) $\n",
        "Where:\n",
        "- $\\hat{y}^n$ is the vector of predicted probabilities for the $n^{th}$  data point.\n",
        "\n",
        "- $y$  is the true class for the $n^{th}$  data point.\n",
        "\n",
        "**Note that** in this model I'm using the defalut value of the Adam optimizer learning rate which is 0.001.\n",
        "\n",
        "**3-Random Forest**:\n",
        "\n",
        " This model creates multiple decision trees during training and combines their outputs for a more accurate and robust prediction. Each tree gives a \"vote\" for a class label, and the RF algorithm predicts the class with the most votes.\n",
        "\n",
        "Text Preprocessing:\n",
        "Tokenization: The text is converted into individual tokens (words or terms) using the nltk.word_tokenize method.\n",
        "Stopwords Removal: Common words like 'and', 'is', 'the' that don't offer significant insights into the content's meaning are removed. These words are termed as stopwords.\n",
        "Lemmatization: Words are reduced to their base or dictionary form. For example, 'running' becomes 'run', and 'mice' becomes 'mouse'. This process helps in reducing the dimensionality of the data.\n",
        "Feature Extraction - TF-IDF Vectorization:\n",
        "we studied this vectorizer in class before and it converts the text data into numerical form. It not only considers the frequency of a word in a particular document (Term Frequency) but also how unique a word is to the entire dataset (Inverse Document Frequency). This ensures that frequent words across documents don't dominate the ones that are unique to a particular document.\n",
        "\n",
        "Random Forest Classifier:\n",
        "Given the transformed feature matrix, the RF algorithm is trained. Each tree in the RF is trained on a bootstrap sample of the data, and at each node, a random subset of features is chosen to decide the best split. This randomness helps the RF to generalize better and not overfit.\n",
        "\n",
        "n_estimators: It specifies the number of trees in the forest.\n",
        "random_state: Ensures reproducibility of the results.\n",
        "\n",
        "Loss Function:\n",
        "The loss in RF is impurity-based. At each node of the tree, the algorithm selects the split that results in the maximum reduction in impurity (Gini impurity or entropy).\n",
        "\n",
        "$\\text{Gini}(S) = 1 - \\sum_{i=1}^{C} p_i^2 \\$\n",
        "\n",
        "Where:\n",
        "- $S$ is the set of samples.\n",
        "- $C$ is the number of classes.\n",
        "-  $p_i$ is the proportion of samples of class $i$ in $S$.\n",
        "\n",
        "For each feature, the Gini impurity is calculated, and the feature that results in the lowest Gini impurity is chosen for the split.\n",
        "\n",
        "\n",
        "**4- Extra tree classifier**:\n",
        "It is a tree-based ensemble learning method similar to the Random Forest. However, there are two main differences:\n",
        "\n",
        "While Random Forest uses bootstrapped samples of the data (sampling with replacement), Extra Trees uses the whole dataset when forming trees.\n",
        "Moreover, In Random Forest, splits at each node are determined by evaluating a subset of features and picking the best split based on an impurity measure. In contrast, Extra Trees uses random splits for node partitions. This randomness increases the bias but decreases the variance, often leading to better generalization on unseen data.\n",
        "\n",
        "Messages in the dataset are either classified as originating from 'ChatGPT' or a 'Human'. The provided code filters messages to only those that are at least 10 words long. Then, messages from 'ChatGPT' are further split into paraphrased versions and each paraphrase is also filtered for a minimum length of 10 words. The final dataset contains the unique 'text' as the independent variable and 'category' as the dependent variable, either 'ChatGPT' or 'Human'.\n",
        "\n",
        "Feature Extraction: Here, I used TF-IDF Vectorization as in previous models.\n",
        "\n",
        "\n",
        "After preprocessing and feature extraction, the Extra Trees Classifier is applied.\n",
        "\n",
        "\n",
        "Loss Function:\n",
        "Similar to Random Forest, the ETC's loss is impurity-based. At each node of the tree, the algorithm aims to select the split that results in the maximum reduction in impurity (Gini impurity or entropy).\n",
        "\n",
        "\n",
        "The Gini impurity formula for Extra Trees is:\n",
        "\n",
        "$\\text{Gini}(S) = 1 - \\sum_{i=1}^{C} p_i^2$"
      ]
    },
    {
      "cell_type": "markdown",
      "metadata": {
        "id": "OhPPdq6v47dH"
      },
      "source": [
        "**Data conversion code**"
      ]
    },
    {
      "cell_type": "code",
      "execution_count": null,
      "metadata": {
        "id": "ZihldPHsm-Jc"
      },
      "outputs": [],
      "source": [
        "import json\n",
        "import pandas as pd\n",
        "\n",
        "# Load the JSON file of your data\n",
        "with open('your directory here', 'r') as json_file:\n",
        "    data = json.load(json_file)\n",
        "\n",
        "\n",
        "\n",
        "df = pd.DataFrame(data)\n",
        "\n",
        "# Save to CSV\n",
        "df.to_csv('your_chat_file.csv', index=False)\n",
        "\n",
        "# Read the CSV file\n",
        "df_from_csv = pd.read_csv('your_chat_file.csv')\n",
        "\n",
        "# Display the first few rows of the DataFrame\n",
        "print(df_from_csv.head())\n",
        "\n",
        "#Save to a new CSV file\n",
        "df_from_csv.to_csv('saving directory', index=False)\n",
        "\n"
      ]
    },
    {
      "cell_type": "code",
      "execution_count": null,
      "metadata": {
        "id": "HcXg9u105KBc"
      },
      "outputs": [],
      "source": [
        "import csv\n",
        "import sys\n",
        "\n",
        "csv_file_path = \"your directory here\"\n",
        "\n",
        "# Increase the maximum field size limit\n",
        "maxInt = sys.maxsize\n",
        "csv.field_size_limit(maxInt)\n",
        "\n",
        "# Read the CSV file and update the 'mapping' column\n",
        "rows = []\n",
        "with open(csv_file_path, 'r') as csvfile:\n",
        "    reader = csv.DictReader(csvfile)\n",
        "    for row in reader:\n",
        "        mapping_content = row['mapping']\n",
        "        # Replace single quotes with double quotes\n",
        "        mapping_content = mapping_content.replace(\"'\", '\"')\n",
        "        row['mapping'] = mapping_content\n",
        "        rows.append(row)\n",
        "\n",
        "# Save the updated rows back to the CSV file\n",
        "with open(csv_file_path, 'w', newline='') as csvfile:\n",
        "    fieldnames = reader.fieldnames\n",
        "    writer = csv.DictWriter(csvfile, fieldnames=fieldnames)\n",
        "\n",
        "    # Write the header\n",
        "    writer.writeheader()\n",
        "\n",
        "    # Write the updated rows\n",
        "    writer.writerows(rows)\n",
        "\n",
        "print(\"Conversion complete.\")\n"
      ]
    },
    {
      "cell_type": "code",
      "execution_count": null,
      "metadata": {
        "id": "p4evIhBe5OGN"
      },
      "outputs": [],
      "source": [
        "import re\n",
        "import pandas as pd\n",
        "\n",
        "def extract_messages_from_csv(file_path):\n",
        "    # Load CSV file into DataFrame\n",
        "    df = pd.read_csv(file_path)\n",
        "\n",
        "    # Define a pattern to extract messages\n",
        "    message_pattern = re.compile(r'\"parts\": \\[\\s*\"([^\"]*)\"\\s*\\]')\n",
        "\n",
        "    # Extract messages using the pattern\n",
        "    messages = []\n",
        "    for mapping in df['mapping']:\n",
        "        matches = message_pattern.findall(mapping)\n",
        "\n",
        "        # Append non-empty messages to the list\n",
        "        for match in matches:\n",
        "            if match.strip():\n",
        "                messages.append(match)\n",
        "                print(match)\n",
        "\n",
        "    return messages\n",
        "\n",
        "\n",
        "\n",
        "\n",
        "#if name == \"__main__\":\n",
        "file_path = 'your directory here'\n",
        "messages = extract_messages_from_csv(file_path)\n",
        "if messages is not None:\n",
        "    print(\"Extracted messages:\")\n",
        "    for msg in messages:\n",
        "        print(msg)"
      ]
    },
    {
      "cell_type": "code",
      "execution_count": null,
      "metadata": {
        "id": "S4XmmZS-5Osf"
      },
      "outputs": [],
      "source": [
        "import re\n",
        "import pandas as pd\n",
        "\n",
        "def extract_messages_from_csv(file_path, output_path):\n",
        "    # Load CSV file into DataFrame\n",
        "    df = pd.read_csv(file_path)\n",
        "\n",
        "    # Define patterns to extract messages and senders\n",
        "    message_pattern = re.compile(r'\"parts\": \\[\\s*\"([^\"]*)\"\\s*\\]')\n",
        "    sender_pattern = re.compile(r'\"role\":\\s*\"([^\"]*)\"')\n",
        "\n",
        "    # Extract messages and senders using the patterns\n",
        "    messages_with_senders = []\n",
        "    for mapping in df['mapping']:\n",
        "        matches_msg = message_pattern.findall(mapping)\n",
        "        matches_sender = sender_pattern.findall(mapping)\n",
        "\n",
        "            ## Append non-empty messages and their senders to the list\n",
        "        for i, match in enumerate(matches_msg):\n",
        "            if match.strip():\n",
        "                sender = matches_sender[i] if i < len(matches_sender) else None\n",
        "                # Check if sender is 'user' or 'assistant'\n",
        "                if sender in [\"user\", \"assistant\"]:\n",
        "                    messages_with_senders.append((sender, match))\n",
        "                    print(f\"Sender: {sender}\\nMessage: {match}\\n\")\n",
        "\n",
        "    # Convert the list of tuples into a DataFrame\n",
        "    df_output = pd.DataFrame(messages_with_senders, columns=['Sender', 'Message'])\n",
        "\n",
        "    # Save the new DataFrame to the specified output CSV file\n",
        "    df_output.to_csv(output_path, index=False)\n",
        "\n",
        "    return df_output\n",
        "\n",
        "# Call the function with the desired file paths\n",
        "extract_messages_from_csv('your directory here', 'your directory here' )\n"
      ]
    },
    {
      "cell_type": "markdown",
      "metadata": {
        "id": "IR1GjHgD5Rxn"
      },
      "source": [
        "**Neural Network Model**"
      ]
    },
    {
      "cell_type": "code",
      "execution_count": null,
      "metadata": {
        "id": "wTWXDIhNPK2n"
      },
      "outputs": [],
      "source": [
        "!pip install gdown\n"
      ]
    },
    {
      "cell_type": "code",
      "execution_count": 97,
      "metadata": {
        "colab": {
          "base_uri": "https://localhost:8080/",
          "height": 0
        },
        "id": "r4UnycYAOnpr",
        "outputId": "90856392-23e6-4226-c641-81ab97e53c0c"
      },
      "outputs": [
        {
          "name": "stderr",
          "output_type": "stream",
          "text": [
            "Downloading...\n",
            "From: https://drive.google.com/uc?id=1Xpjl_z7NtkBqEeLkuSjS9uKtn0XKepU8\n",
            "To: /content/chats_file.csv\n",
            "100%|██████████| 1.87M/1.87M [00:00<00:00, 53.9MB/s]\n"
          ]
        },
        {
          "name": "stdout",
          "output_type": "stream",
          "text": [
            "Epoch 1/10\n",
            "8/8 [==============================] - 2s 42ms/step - loss: 0.6918 - accuracy: 0.4648 - val_loss: 0.6917 - val_accuracy: 0.5000\n",
            "Epoch 2/10\n",
            "8/8 [==============================] - 0s 18ms/step - loss: 0.6279 - accuracy: 0.9844 - val_loss: 0.6904 - val_accuracy: 0.4531\n",
            "Epoch 3/10\n",
            "8/8 [==============================] - 0s 18ms/step - loss: 0.5634 - accuracy: 0.9961 - val_loss: 0.6896 - val_accuracy: 0.4375\n",
            "Epoch 4/10\n",
            "8/8 [==============================] - 0s 19ms/step - loss: 0.4660 - accuracy: 0.9961 - val_loss: 0.6872 - val_accuracy: 0.4531\n",
            "Epoch 5/10\n",
            "8/8 [==============================] - 0s 22ms/step - loss: 0.3265 - accuracy: 0.9961 - val_loss: 0.6901 - val_accuracy: 0.4688\n",
            "Epoch 6/10\n",
            "8/8 [==============================] - 0s 14ms/step - loss: 0.1789 - accuracy: 0.9961 - val_loss: 0.6976 - val_accuracy: 0.4688\n",
            "Epoch 7/10\n",
            "8/8 [==============================] - 0s 16ms/step - loss: 0.0815 - accuracy: 0.9961 - val_loss: 0.7117 - val_accuracy: 0.5000\n",
            "Epoch 8/10\n",
            "8/8 [==============================] - 0s 16ms/step - loss: 0.0383 - accuracy: 0.9961 - val_loss: 0.7258 - val_accuracy: 0.5000\n",
            "Epoch 9/10\n",
            "8/8 [==============================] - 0s 15ms/step - loss: 0.0224 - accuracy: 0.9961 - val_loss: 0.7413 - val_accuracy: 0.4844\n",
            "Epoch 10/10\n",
            "8/8 [==============================] - 0s 14ms/step - loss: 0.0215 - accuracy: 0.9883 - val_loss: 0.7454 - val_accuracy: 0.5156\n",
            "3/3 [==============================] - 0s 4ms/step\n",
            "Accuracy: 46.25%\n",
            "Precision: 47.48%\n",
            "Recall: 46.25%\n",
            "F1 Score: 45.97%\n"
          ]
        }
      ],
      "source": [
        "import gdown\n",
        "import numpy as np\n",
        "import pandas as pd\n",
        "from sklearn.preprocessing import LabelEncoder\n",
        "from sklearn.model_selection import train_test_split\n",
        "from tensorflow.keras.models import Sequential\n",
        "from tensorflow.keras.layers import Embedding, Flatten, Dense\n",
        "from tensorflow.keras.preprocessing.text import Tokenizer\n",
        "from tensorflow.keras.preprocessing.sequence import pad_sequences\n",
        "from sklearn.metrics import accuracy_score, precision_score, recall_score, f1_score\n",
        "\n",
        "# Download the file from Google Drive\n",
        "url = 'https://drive.google.com/uc?id=1Xpjl_z7NtkBqEeLkuSjS9uKtn0XKepU8'\n",
        "output = 'chats_file.csv'\n",
        "gdown.download(url, output, quiet=False)\n",
        "\n",
        "# Load data\n",
        "data = pd.read_csv('chats_file.csv')\n",
        "\n",
        "# Select the longest 200 messages from each sender\n",
        "selected_data = []\n",
        "unique_senders = data['Sender'].unique()\n",
        "\n",
        "for sender in unique_senders:\n",
        "    sender_data = data[data['Sender'] == sender]\n",
        "    selected_messages = sender_data.iloc[sender_data['Message'].str.len().argsort()[-200:]].copy()\n",
        "    selected_data.append(selected_messages)\n",
        "\n",
        "selected_data_df = pd.concat(selected_data)\n",
        "\n",
        "messages = selected_data_df['Message'].values\n",
        "senders = selected_data_df['Sender'].values\n",
        "\n",
        "# Tokenize and pad sequences\n",
        "MAX_WORDS = 10000\n",
        "MAX_LEN = 50\n",
        "tokenizer = Tokenizer(num_words=MAX_WORDS)\n",
        "tokenizer.fit_on_texts(messages)\n",
        "sequences = tokenizer.texts_to_sequences(messages)\n",
        "X_data = pad_sequences(sequences, maxlen=MAX_LEN)\n",
        "\n",
        "# Encode senders to integers\n",
        "encoder = LabelEncoder()\n",
        "y_data = encoder.fit_transform(senders)\n",
        "\n",
        "# Train-test split\n",
        "X_train, X_test, y_train, y_test = train_test_split(X_data, y_data, test_size=0.2, random_state=42)\n",
        "\n",
        "# Neural Network Model\n",
        "embedding_dim = 50\n",
        "model = Sequential()\n",
        "model.add(Embedding(input_dim=MAX_WORDS, output_dim=embedding_dim, input_length=MAX_LEN))\n",
        "model.add(Flatten())\n",
        "model.add(Dense(32, activation='relu'))\n",
        "model.add(Dense(len(encoder.classes_), activation='softmax'))\n",
        "\n",
        "# Compile the model\n",
        "model.compile(optimizer='adam', loss='sparse_categorical_crossentropy', metrics=['accuracy'])\n",
        "\n",
        "# Train the model\n",
        "model.fit(X_train, y_train, epochs=10, batch_size=32, validation_split=0.2)\n",
        "\n",
        "# Predict on the test set\n",
        "y_pred = model.predict(X_test)\n",
        "y_pred_classes = np.argmax(y_pred, axis=1)  # Convert probabilities to class labels\n",
        "\n",
        "# Compute metrics\n",
        "accuracy = accuracy_score(y_test, y_pred_classes)\n",
        "precision = precision_score(y_test, y_pred_classes, average='weighted')\n",
        "recall = recall_score(y_test, y_pred_classes, average='weighted')\n",
        "f1 = f1_score(y_test, y_pred_classes, average='weighted')\n",
        "\n",
        "# Print metrics\n",
        "print(f\"Accuracy: {accuracy * 100:.2f}%\")\n",
        "print(f\"Precision: {precision * 100:.2f}%\")\n",
        "print(f\"Recall: {recall * 100:.2f}%\")\n",
        "print(f\"F1 Score: {f1 * 100:.2f}%\")\n"
      ]
    },
    {
      "cell_type": "markdown",
      "metadata": {
        "id": "Tt4SBNsxNINo"
      },
      "source": [
        "\n",
        "My Training Accuracy is Rising:\n",
        "\n",
        "In the beginning (epoch 1), my model got its predictions right roughly 46% of the time (accuracy: 0.4805).\n",
        "By the 10th epoch, the training accuracy reached nearly 98.8% (accuracy: 0.98), meaning the model had gotten really good at predicting the training data.\n",
        "Validation Accuracy is Unstable and Low:\n",
        "\n",
        "My validation accuracy started at 50% in the first epoch.\n",
        "However, by the 10th epoch, it was 51%. This suggests that while my model is performing well on the training data, it's struggling to generalize to new data it hasn't seen before.\n",
        "Loss Values :\n",
        "\n",
        "The training loss (a measure of error) decreased over time, which is a good sign. It means my model is getting better at its predictions on the training data.\n",
        "However, the validation loss increased from the 5th epoch onward, indicating the model's predictions on new data were getting worse.\n",
        "Final Test Performance:\n",
        "\n",
        "After training, I tested my model on a separate test dataset. It achieved an accuracy of 46.25%. This means that on completely new data, the model was correct less than half the time.\n",
        "Also, it got 45.97% F1 score, 47.48% preceisoin, and 46.2% recall.\n",
        "From these results, I can see that my model is overfitting. This means it's learning the training data almost perfectly but struggles with new, unseen data. I might need to consider changes to improve its ability to generalize."
      ]
    },
    {
      "cell_type": "markdown",
      "metadata": {
        "id": "cVo1mhLp6XVE"
      },
      "source": [
        "**Extra Tree Classifier**"
      ]
    },
    {
      "cell_type": "code",
      "execution_count": 67,
      "metadata": {
        "colab": {
          "base_uri": "https://localhost:8080/",
          "height": 0
        },
        "id": "ojbzMoZweziO",
        "outputId": "182c4e3c-c187-40eb-e2fd-c4cad5e74188"
      },
      "outputs": [
        {
          "name": "stderr",
          "output_type": "stream",
          "text": [
            "Downloading...\n",
            "From: https://drive.google.com/uc?id=1Xpjl_z7NtkBqEeLkuSjS9uKtn0XKepU8\n",
            "To: /content/chats_file.csv\n",
            "100%|██████████| 1.87M/1.87M [00:00<00:00, 136MB/s]"
          ]
        },
        {
          "name": "stdout",
          "output_type": "stream",
          "text": [
            "         Sender                                            Message\n",
            "0     assistant  explain these: Techniques like TF-IDF (Term Fr...\n",
            "1          user  X_test, y_train, y_test = train_test_split(X, ...\n",
            "2     assistant  I need a python code to extract the content se...\n",
            "3          user  generalize the code for any snippet like the o...\n",
            "4     assistant                                    message content\n",
            "...         ...                                                ...\n",
            "3531  assistant  explain the intuition and the process of how t...\n",
            "3532       user  The thresholds for compressing an image are ch...\n",
            "3533       user  Consider the set of vectors S = {v1, v2, ...vn...\n",
            "3534  assistant  \\n\\nTo determine whether S is linearly indepen...\n",
            "3535       user      provide sagemath code as a supporting example\n",
            "\n",
            "[3536 rows x 2 columns]\n",
            "(3536, 2)\n"
          ]
        },
        {
          "name": "stderr",
          "output_type": "stream",
          "text": [
            "\n"
          ]
        }
      ],
      "source": [
        "url = 'your directory here'\n",
        "output = 'chats_file.csv'\n",
        "gdown.download(url, output, quiet=False)\n",
        "\n",
        "# Load data\n",
        "df = pd.read_csv('chats_file.csv')\n",
        "print(df)\n",
        "print(df.shape)"
      ]
    },
    {
      "cell_type": "code",
      "execution_count": 68,
      "metadata": {
        "id": "OxInuohCf6tO"
      },
      "outputs": [],
      "source": [
        "category = {}\n",
        "for i in range(len(data)):\n",
        "    sender = data.iloc[i]['Sender']\n",
        "\n",
        "    # If the sender is not ChatGPT, then label it as 'human'\n",
        "    if sender != 'assistant':\n",
        "        category[data.iloc[i]['Message']] = 'human'\n",
        "    else:\n",
        "        paraphrases = data.iloc[i]['Message'][1:-1].split(', ')\n",
        "        for paraphrase in paraphrases[:1]:\n",
        "            category[paraphrase[1:-1]] = 'chatgpt'\n"
      ]
    },
    {
      "cell_type": "code",
      "execution_count": 77,
      "metadata": {
        "id": "EmaS5-qhkGDE"
      },
      "outputs": [],
      "source": [
        "category = {}\n",
        "\n",
        "for i in range(len(data)):\n",
        "    message = data.iloc[i]['Message']\n",
        "    sender = data.iloc[i]['Sender']\n",
        "    word_count = len(message.split())\n",
        "\n",
        "    # Only process messages that are at least 10 words long\n",
        "    if word_count >= 10:\n",
        "        # If the sender is not ChatGPT, then label it as 'human'\n",
        "        if sender != 'assistant':\n",
        "            category[message] = 'human'\n",
        "        else:\n",
        "\n",
        "            category[message] = 'chatgpt'\n"
      ]
    },
    {
      "cell_type": "code",
      "execution_count": null,
      "metadata": {
        "id": "RH44ImUEgPi_"
      },
      "outputs": [],
      "source": [
        "df=pd.DataFrame(category.items(),columns=[\"text\",\"category\"])\n",
        "df=df.sample(frac=1)\n",
        "df=df[:20000]\n",
        "df"
      ]
    },
    {
      "cell_type": "code",
      "execution_count": null,
      "metadata": {
        "id": "25GaH3qWgUdm"
      },
      "outputs": [],
      "source": [
        "df[\"category\"].value_counts()\n"
      ]
    },
    {
      "cell_type": "code",
      "execution_count": 80,
      "metadata": {
        "id": "XE85bDVcgW9I"
      },
      "outputs": [],
      "source": [
        "X=df['text']\n",
        "y=df['category']"
      ]
    },
    {
      "cell_type": "code",
      "execution_count": 81,
      "metadata": {
        "id": "NbWa80OkgXxk"
      },
      "outputs": [],
      "source": [
        "from sklearn.model_selection import train_test_split\n",
        "X_train, X_test, y_train, y_test = train_test_split(X, y, test_size=0.2)"
      ]
    },
    {
      "cell_type": "code",
      "execution_count": 82,
      "metadata": {
        "id": "zDxYyzb4gao2"
      },
      "outputs": [],
      "source": [
        "from sklearn.feature_extraction.text import TfidfVectorizer\n",
        "vectorizer = TfidfVectorizer()\n",
        "X_train_tfidf = vectorizer.fit_transform(X_train)\n",
        "X_test_tfidf = vectorizer.transform(X_test)\n"
      ]
    },
    {
      "cell_type": "code",
      "execution_count": 83,
      "metadata": {
        "id": "rvLVEkt3g72J"
      },
      "outputs": [],
      "source": [
        "from sklearn.linear_model import LogisticRegression\n",
        "from sklearn.svm import SVC\n",
        "from sklearn.naive_bayes import MultinomialNB\n",
        "from sklearn.tree import DecisionTreeClassifier\n",
        "from sklearn.neighbors import KNeighborsClassifier\n",
        "from sklearn.ensemble import RandomForestClassifier\n",
        "from sklearn.ensemble import ExtraTreesClassifier\n",
        "from sklearn.ensemble import AdaBoostClassifier\n",
        "from sklearn.ensemble import BaggingClassifier\n",
        "from sklearn import metrics\n",
        "from sklearn.ensemble import GradientBoostingClassifier\n",
        "#testing multiple models to select best one\n",
        "lg = LogisticRegression(penalty='l1',solver='liblinear')\n",
        "sv = SVC(kernel='sigmoid',gamma=1.0)\n",
        "mnb = MultinomialNB()\n",
        "dtc = DecisionTreeClassifier(max_depth=5)\n",
        "knn = KNeighborsClassifier()\n",
        "rfc = RandomForestClassifier(n_estimators=50,random_state=2)\n",
        "etc = ExtraTreesClassifier(n_estimators=50,random_state=2)\n",
        "abc = AdaBoostClassifier(n_estimators=50,random_state=2)\n",
        "bg = BaggingClassifier(n_estimators=50,random_state=2)\n",
        "gbc = GradientBoostingClassifier(n_estimators=50,random_state=2)"
      ]
    },
    {
      "cell_type": "code",
      "execution_count": 84,
      "metadata": {
        "id": "rOoRSMMfgdoc"
      },
      "outputs": [],
      "source": [
        "def prediction(model,X_train,X_test,y_train,y_test):\n",
        "    model.fit(X_train,y_train)\n",
        "    pr = model.predict(X_test)\n",
        "    acc_score = metrics.accuracy_score(y_test,pr)\n",
        "    f1= metrics.f1_score(y_test,pr,average=\"binary\", pos_label=\"chatgpt\")\n",
        "    return acc_score,f1\n",
        "\n",
        "acc_score = {}\n",
        "f1_score={}\n",
        "clfs= {\n",
        "    'LR':lg,\n",
        "    'SVM':sv,\n",
        "    'DTC':dtc,\n",
        "    'KNN':knn,\n",
        "    'RFC':rfc,\n",
        "    'ETC':etc,\n",
        "    'ABC':abc,\n",
        "    'BG':bg,\n",
        "    'GBC':gbc,\n",
        "}\n",
        "for name,clf in clfs.items():\n",
        "    acc_score[name],f1_score[name]= prediction(clf,X_train_tfidf,X_test_tfidf,y_train,y_test)\n",
        "\n",
        "    #View those scores\n",
        "    acc_score\n",
        "    f1_score\n"
      ]
    },
    {
      "cell_type": "code",
      "execution_count": 85,
      "metadata": {
        "colab": {
          "base_uri": "https://localhost:8080/",
          "height": 1196
        },
        "id": "whyP3dzogjJh",
        "outputId": "13d40f0f-0bea-4871-872f-15a76cb75c8b"
      },
      "outputs": [
        {
          "name": "stdout",
          "output_type": "stream",
          "text": [
            "[[102 122]\n",
            " [103 145]]\n"
          ]
        },
        {
          "data": {
            "text/plain": [
              "<Axes: >"
            ]
          },
          "execution_count": 85,
          "metadata": {},
          "output_type": "execute_result"
        },
        {
          "data": {
            "image/png": "[encoded data removed]",
            "text/plain": [
              "<Figure size 2000x1400 with 2 Axes>"
            ]
          },
          "metadata": {},
          "output_type": "display_data"
        }
      ],
      "source": [
        "#select extra tree classifier as it provided best results\n",
        "etc.fit(X_train_tfidf,y_train)\n",
        "from sklearn.metrics import confusion_matrix\n",
        "y_pred =etc.predict(X_test_tfidf)\n",
        "cm = confusion_matrix(y_test, y_pred)\n",
        "print(cm)\n",
        "\n",
        "import seaborn as sn\n",
        "import matplotlib.pyplot as plt\n",
        "confusion_matrix = pd.DataFrame(cm, index = [i for i in [\"ChatGPT\",\"Human\"]],\n",
        "                  columns = [i for i in [\"ChatGPT\",\"Human\"]])\n",
        "plt.figure(figsize = (20,14))\n",
        "sn.heatmap(confusion_matrix, annot=True,cmap=\"YlGnBu\", fmt='g')"
      ]
    },
    {
      "cell_type": "code",
      "execution_count": 88,
      "metadata": {
        "colab": {
          "base_uri": "https://localhost:8080/",
          "height": 0
        },
        "id": "SidaXRDog3Co",
        "outputId": "7c7fcd1d-315f-488b-94d8-4ef8866e2805"
      },
      "outputs": [
        {
          "name": "stdout",
          "output_type": "stream",
          "text": [
            "Accuracy: 52.33%\n",
            "Precision: 52.85%\n",
            "Recall: 52.33%\n",
            "F1 Score: 52.51%\n",
            "\n",
            "Classification Report:\n",
            "               precision    recall  f1-score   support\n",
            "\n",
            "     chatgpt       0.46      0.50      0.48       205\n",
            "       human       0.58      0.54      0.56       267\n",
            "\n",
            "    accuracy                           0.52       472\n",
            "   macro avg       0.52      0.52      0.52       472\n",
            "weighted avg       0.53      0.52      0.53       472\n",
            "\n",
            "\n",
            "Confusion Matrix:\n",
            " [[102 103]\n",
            " [122 145]]\n"
          ]
        }
      ],
      "source": [
        "from sklearn import metrics\n",
        "\n",
        "\n",
        "accuracy_score = metrics.accuracy_score(y_pred, y_test) * 100\n",
        "precision_score = metrics.precision_score(y_pred, y_test, average='weighted') * 100\n",
        "recall_score = metrics.recall_score(y_pred, y_test, average='weighted') * 100\n",
        "f1_score = metrics.f1_score(y_pred, y_test, average='weighted') * 100\n",
        "\n",
        "# Classification report provides precision, recall, f1-score, and support for each class\n",
        "classification_report = metrics.classification_report(y_pred, y_test)\n",
        "\n",
        "# To get the confusion matrix\n",
        "confusion_mat = metrics.confusion_matrix(y_pred, y_test)\n",
        "\n",
        "print(f\"Accuracy: {accuracy_score:.2f}%\")\n",
        "print(f\"Precision: {precision_score:.2f}%\")\n",
        "print(f\"Recall: {recall_score:.2f}%\")\n",
        "print(f\"F1 Score: {f1_score:.2f}%\")\n",
        "print(\"\\nClassification Report:\\n\", classification_report)\n",
        "print(\"\\nConfusion Matrix:\\n\", confusion_mat)\n"
      ]
    },
    {
      "cell_type": "markdown",
      "metadata": {
        "id": "x4Olm34vR6tz"
      },
      "source": [
        "Metrics Overview:\n",
        "\n",
        "Accuracy (52.33%):\n",
        "\n",
        "- This metric tells us that out of all the predictions the model made, 52.33% of them were correct. In the context of the data, it means that a little over half of the time the model correctly identified whether a message was from ChatGPT or a human.\n",
        "Precision (52.85%):\n",
        "\n",
        "Precision is the proportion of positive identifications that were actually correct. In this case, when the model thinks a message is from a human, it's correct 52.85% of the time.\n",
        "Recall (52.33%):\n",
        "\n",
        "Recall represents the proportion of actual positives that were identified correctly. This suggests that the model correctly identified 52.33% of all actual human messages.\n",
        "\n",
        "F1 Score (52.51%):\n",
        "\n",
        "- The F1 score is the harmonic mean of precision and recall, giving a balanced measure when both false positives and false negatives have equal importance. An F1 score of 52.51% indicates that the model has a moderate ability to balance precision and recall, leaning slightly towards precision.\n",
        "Classification Report:\n",
        "ChatGPT:\n",
        "\n",
        "Precision (0.46):\n",
        "- Out of all the messages the model thought were from ChatGPT, 46% of them actually were from ChatGPT.\n",
        "\n",
        "Recall (0.50):\n",
        "- The model was able to correctly identify 50% of all actual ChatGPT messages.\n",
        "\n",
        "F1 Score (0.48):\n",
        "- This score suggests that when predicting ChatGPT messages, the model has a roughly equal trade-off between precision and recall, but both metrics are below 50%.\n",
        "Human:\n",
        "\n",
        "Precision (0.58):\n",
        "- Out of all the messages the model classified as human-written, 58% of them were actually from humans.\n",
        "Recall (0.54):\n",
        "- The model correctly identified 54% of all the actual human messages.\n",
        "F1 Score (0.56):\n",
        "- This suggests a slightly better balance between precision and recall for human messages compared to ChatGPT messages.\n",
        "Confusion Matrix:\n",
        "\n",
        "True Positives (102):\n",
        "- 102 ChatGPT messages were correctly identified.\n",
        "False Positives (103):\n",
        "- 103 human messages were incorrectly labeled as ChatGPT.\n",
        "False Negatives (122):  \n",
        "- 122 ChatGPT messages were incorrectly labeled as human.\n",
        "True Negatives (145):\n",
        "- 145 human messages were correctly identified.\n",
        "\n",
        "The model has a roughly balanced performance, but it's making errors for both classes almost equally. The results suggest that the model might need more fine-tuning or additional features to better distinguish between ChatGPT and human messages. The model performs slightly better when classifying human messages compared to ChatGPT messages.\n",
        "\n",
        "\n",
        "\n",
        "\n"
      ]
    },
    {
      "cell_type": "markdown",
      "metadata": {
        "id": "QCeuAqkKnP3G"
      },
      "source": [
        "Random forest model\n"
      ]
    },
    {
      "cell_type": "code",
      "execution_count": null,
      "metadata": {
        "id": "_rt-0y9kjEJD"
      },
      "outputs": [],
      "source": [
        "import pandas as pd\n",
        "# Download the file from Google Drive\n",
        "url = 'your directory here'\n",
        "output = 'chats_file.csv'\n",
        "gdown.download(url, output, quiet=False)\n",
        "\n",
        "# Load data\n",
        "data = pd.read_csv('chats_file.csv')\n"
      ]
    },
    {
      "cell_type": "code",
      "execution_count": 90,
      "metadata": {
        "colab": {
          "base_uri": "https://localhost:8080/",
          "height": 0
        },
        "id": "fcGXSZ3bnawv",
        "outputId": "8b7077b5-0d4e-49df-d826-3b0f33b03e07"
      },
      "outputs": [
        {
          "name": "stderr",
          "output_type": "stream",
          "text": [
            "[nltk_data] Downloading package punkt to /root/nltk_data...\n",
            "[nltk_data]   Package punkt is already up-to-date!\n",
            "[nltk_data] Downloading package omw-1.4 to /root/nltk_data...\n",
            "[nltk_data]   Package omw-1.4 is already up-to-date!\n",
            "[nltk_data] Downloading package stopwords to /root/nltk_data...\n",
            "[nltk_data]   Package stopwords is already up-to-date!\n",
            "[nltk_data] Downloading package wordnet to /root/nltk_data...\n",
            "[nltk_data]   Package wordnet is already up-to-date!\n"
          ]
        },
        {
          "name": "stdout",
          "output_type": "stream",
          "text": [
            "Accuracy: 0.5211864406779662\n",
            "\n",
            "Classification Report:\n",
            "               precision    recall  f1-score   support\n",
            "\n",
            "   assistant       0.52      0.41      0.46       350\n",
            "        user       0.52      0.63      0.57       358\n",
            "\n",
            "    accuracy                           0.52       708\n",
            "   macro avg       0.52      0.52      0.51       708\n",
            "weighted avg       0.52      0.52      0.51       708\n",
            "\n"
          ]
        }
      ],
      "source": [
        "import nltk\n",
        "nltk.download('punkt')\n",
        "import nltk\n",
        "nltk.download('omw-1.4')\n",
        "import nltk\n",
        "from nltk.corpus import stopwords\n",
        "from nltk.stem import WordNetLemmatizer\n",
        "\n",
        "nltk.download('stopwords')\n",
        "nltk.download('wordnet')\n",
        "\n",
        "lemmatizer = WordNetLemmatizer()\n",
        "stop_words = set(stopwords.words('english'))\n",
        "\n",
        "def preprocess_text(text):\n",
        "    # Tokenization\n",
        "    tokens = nltk.word_tokenize(text.lower())\n",
        "\n",
        "    # Remove stopwords and lemmatize\n",
        "    tokens = [lemmatizer.lemmatize(token) for token in tokens if token.isalnum() and token not in stop_words]\n",
        "\n",
        "    return ' '.join(tokens)\n",
        "\n",
        "data['Message'] = data['Message'].apply(preprocess_text)\n",
        "from sklearn.model_selection import train_test_split\n",
        "\n",
        "X_train, X_test, y_train, y_test = train_test_split(\n",
        "    data['Message'],\n",
        "    data['Sender'],\n",
        "    test_size=0.2,\n",
        "    random_state=42\n",
        ")\n",
        "from sklearn.feature_extraction.text import TfidfVectorizer\n",
        "\n",
        "vectorizer = TfidfVectorizer(max_features=5000)\n",
        "X_train_tfidf = vectorizer.fit_transform(X_train)\n",
        "X_test_tfidf = vectorizer.transform(X_test)\n",
        "from sklearn.ensemble import RandomForestClassifier\n",
        "\n",
        "clf = RandomForestClassifier(n_estimators=100, random_state=42)\n",
        "clf.fit(X_train_tfidf, y_train)\n",
        "from sklearn.metrics import classification_report, accuracy_score\n",
        "\n",
        "y_pred = clf.predict(X_test_tfidf)\n",
        "\n",
        "print(\"Accuracy:\", accuracy_score(y_test, y_pred))\n",
        "print(\"\\nClassification Report:\\n\", classification_report(y_test, y_pred))\n"
      ]
    },
    {
      "cell_type": "markdown",
      "metadata": {
        "id": "zkL3zxUISj6_"
      },
      "source": [
        "Overall Accuracy:\n",
        "\n",
        "My model's overall accuracy is about 52.12%. This means that it correctly predicted the class for a bit more than half of the test dataset. This level of accuracy suggests there's room for improvement since it's just slightly better than random guessing for two classes.\n",
        "\n",
        "Precision, Recall, and F1-Score:\n",
        "\n",
        "For the \"assistant\" class:\n",
        "\n",
        "- Precision: Approximately 52%. Out of all the instances my model predicted as \"assistant\", about 52% of them were actually \"assistant\".\n",
        "- Recall: Approximately 41%. Out of all the actual \"assistant\" instances in the test set, my model correctly identified about 41% of them.\n",
        "- F1-Score: Approximately 46%. This score is the harmonic mean of precision and recall and gives a singular metric that balances the two. A value of 46% suggests there's quite a bit of room for improvement in balancing precision and recall for this class.\n",
        "\n",
        "For the \"user\" class:\n",
        "\n",
        "- Precision: Approximately 52%. Out of all the instances my model predicted as \"user\", about 52% of them were indeed \"user\".\n",
        "- Recall: Approximately 63%. This means my model identified about 63% of all actual \"user\" instances correctly.\n",
        "- F1-Score: Approximately 57%. The F1-score for the \"user\" class is better than that for the \"assistant\" class, suggesting that the model might be somewhat more reliable when predicting the \"user\" class.\n",
        "\n",
        "Macro Average vs. Weighted Average:\n",
        "\n",
        "- Macro Average: It averages the unweighted mean per label, suggesting both classes are equally important regardless of their number of instances.\n",
        "- Weighted Average: It considers the number of true instances for each label, accounting for label imbalance.\n",
        "Both the macro and weighted averages are around 52%, aligning with the overall accuracy. The similarity between the macro and weighted averages indicates that the dataset might be relatively balanced between the two classes.\n",
        "\n",
        "Conclusion\n",
        "In summary, while the Random Forest Classifier model showed a moderate ability to distinguish between the \"assistant\" and \"user\" classes, there's certainly room for improvement. The model seems to be slightly better at predicting the \"user\" class compared to the \"assistant\" class, based on the F1-scores. To enhance the model's performance, I might consider gathering more data, tweaking hyperparameters, or trying different feature engineering techniques."
      ]
    },
    {
      "cell_type": "markdown",
      "metadata": {
        "id": "P6LaOgJQoWlw"
      },
      "source": [
        "Logistic regression model\n"
      ]
    },
    {
      "cell_type": "code",
      "execution_count": 93,
      "metadata": {
        "colab": {
          "base_uri": "https://localhost:8080/",
          "height": 827
        },
        "id": "c2AAVegWoV-8",
        "outputId": "c557534e-d748-42a2-c4bc-44958b4e3df6"
      },
      "outputs": [
        {
          "name": "stdout",
          "output_type": "stream",
          "text": [
            "Accuracy: 0.4788135593220339\n",
            "\n",
            "Classification Report:\n",
            "               precision    recall  f1-score   support\n",
            "\n",
            "   assistant       0.47      0.42      0.45       350\n",
            "        user       0.49      0.53      0.51       358\n",
            "\n",
            "    accuracy                           0.48       708\n",
            "   macro avg       0.48      0.48      0.48       708\n",
            "weighted avg       0.48      0.48      0.48       708\n",
            "\n"
          ]
        },
        {
          "data": {
            "image/png": "[encoded data removed]",
            "text/plain": [
              "<Figure size 1000x700 with 2 Axes>"
            ]
          },
          "metadata": {},
          "output_type": "display_data"
        }
      ],
      "source": [
        "from sklearn.feature_extraction.text import CountVectorizer\n",
        "from sklearn.linear_model import LogisticRegression\n",
        "from sklearn.metrics import classification_report, accuracy_score\n",
        "\n",
        "# Convert the text data into numerical vectors\n",
        "vectorizer = CountVectorizer()\n",
        "X_train_vectorized = vectorizer.fit_transform(X_train)\n",
        "X_test_vectorized = vectorizer.transform(X_test)\n",
        "\n",
        "# Create and train the logistic regression model\n",
        "logreg = LogisticRegression(max_iter=10000)\n",
        "logreg.fit(X_train_vectorized, y_train)\n",
        "\n",
        "# Predict on the test set\n",
        "y_pred = logreg.predict(X_test_vectorized)\n",
        "\n",
        "# Print accuracy and classification report\n",
        "print(\"Accuracy:\", accuracy_score(y_test, y_pred))\n",
        "print(\"\\nClassification Report:\\n\", classification_report(y_test, y_pred))\n",
        "from sklearn.metrics import confusion_matrix\n",
        "import seaborn as sns\n",
        "import matplotlib.pyplot as plt\n",
        "matrix = confusion_matrix(y_test, y_pred)\n",
        "plt.figure(figsize=(10,7))\n",
        "sns.heatmap(matrix, annot=True, cmap='Blues', fmt='g', xticklabels= logreg.classes_, yticklabels= logreg.classes_)\n",
        "plt.xlabel('Predicted')\n",
        "plt.ylabel('True')\n",
        "plt.show()\n"
      ]
    },
    {
      "cell_type": "markdown",
      "metadata": {
        "id": "O3zIAEfLTHmG"
      },
      "source": [
        "The model's overall accuracy is approximately 47.88%. This means that out of every 100 predictions it makes on the test set, it gets about 48 of them correct. In many contexts, an accuracy rate of less than 50% is considered poor and not much better than random guessing. However, the suitability of this accuracy depends on the problem domain and the baseline accuracy we'd expect without a model.\n",
        "\n",
        "Assistant Class:\n",
        "\n",
        "- Precision: About 47%. This means that of all the instances the model predicted as \"assistant\", 47% were correctly identified.\n",
        "- Recall: Roughly 42%. This indicates that out of all the actual \"assistant\" instances in the test set, the model was able to identify 42% of them correctly.\n",
        "- F1-score: Around 45%. The F1-score is the harmonic mean of precision and recall and provides a single metric that balances the two. The closer this score is to 1 (or 100%), the better. A score of 45% suggests there's room for improvement.\n",
        "\n",
        "User Class:\n",
        "\n",
        "- Precision: Nearly 49%. This means that of all the instances the model labeled as \"user\", 49% were indeed \"user\".\n",
        "- Recall: Approximately 53%. This means the model successfully identified 53% of all actual \"user\" instances in the test set.\n",
        "- F1-score: About 51%. Again, the F1-score provides a balance between precision and recall. An F1-score of 51% for the \"user\" class suggests a performance slightly better than that of the \"assistant\" class but still offers room for improvement.\n",
        "\n",
        "Macro Avg vs. Weighted Avg:\n",
        "\n",
        "- The macro average calculates the metric independently for each class and then takes the average (hence treating all classes equally). Here, both precision and recall have a macro average of 48%.\n",
        "- The weighted average calculates metrics based on the number of true instances for each label. It gives importance to the class with more instances (hence potentially highlighting the performance on more frequent labels). Here, the weighted average is also 48% for precision and recall.\n",
        "\n",
        "Conclusion\n",
        "From this analysis, I observe that the logistic regression model's performance is similar for both \"assistant\" and \"user\" classes, with slight variations. The accuracy, precision, recall, and F1-score values all hover around the 47-53% range, which is not particularly high. Depending on the application and the context, I might want to consider methods to improve the model or explore alternative models to achieve better performance.\n",
        "\n",
        "\n",
        "\n",
        "\n"
      ]
    },
    {
      "cell_type": "markdown",
      "metadata": {
        "id": "z1_jy3zO9Cze"
      },
      "source": [
        "**Discussion**"
      ]
    },
    {
      "cell_type": "markdown",
      "metadata": {
        "id": "Mz_XjfgnN8yz"
      },
      "source": [
        "Neural Network model: During its learning phase, this model showed a significant difference between its performance on the data it was trained on and the data it hadn't seen before (known as validation data). This suggests that while it learned the training data really well (almost perfectly, in fact), it struggled to generalize this learning to new data. By the end of its training, it got about half of its predictions right, with a final test accuracy of 52.5%.\n",
        "\n",
        "Extra Tree Classifier model: This model got 52.33% of its predictions correct. When we break down its performance, it was slightly better at identifying 'human' messages than 'ChatGPT' messages. The numbers 102 and 103 in the confusion matrix tell us it correctly identified 102 'chatgpt' messages but wrongly classified 103 of them. Similarly, it got 145 'human' messages right but missed 122.\n",
        "\n",
        "Random Forest model: This model had an accuracy of about 52.12%. It was slightly better at recognizing 'user' messages than 'assistant' ones. However, it's worth noting that it got a significant chunk of both categories wrong, making it comparable to the Extra Tree Classifier.\n",
        "\n",
        "Logistic Regression model: This was the least accurate model, getting only about 47.88% of its predictions correct. But, its mistakes were pretty balanced between the two message types ('assistant' and 'user').\n"
      ]
    },
    {
      "cell_type": "markdown",
      "metadata": {
        "id": "Tk8golle9FzW"
      },
      "source": [
        "**Summary**"
      ]
    },
    {
      "cell_type": "markdown",
      "metadata": {
        "id": "1cMY7aI_QLDz"
      },
      "source": [
        "My Steps & Pipeline:\n",
        "1. Data Collection & Preprocessing:\n",
        "I started by downloading a dataset that seemed to contain chat messages from both humans and ChatGPT. Before even thinking about training models, I had to clean up and process this data. This usually meant breaking down text into words or \"tokens\", and making sure the data was in a format that the models could understand.\n",
        "\n",
        "2. Model Selection:\n",
        "I tried out four different models:\n",
        "\n",
        "- Neural Network\n",
        "\n",
        "- Extra Tree Classifier\n",
        "\n",
        "- Random Forest\n",
        "\n",
        "- Logistic Regression\n",
        "\n",
        "Each of these models works in its own unique way, but all were trained to do the same job: figure out if a chat message was written by a human or ChatGPT.\n",
        "\n",
        "3.Training & Validation:\n",
        "I trained each model on a portion of the data and then tested it on a different portion.\n",
        "\n",
        "4.Evaluation:\n",
        "After \"quizzing\" the models, I checked their \"scores\". I primarily looked at accuracy (how many they got right) and F1-score (a balance of how many true positives versus false positives). Most models had an accuracy around 51-52%, and an F1-score of about 50%. This means they were doing a bit better than just randomly guessing but weren't perfect.\n",
        "\n",
        "Key Insights & Shortcomings:\n",
        "All models performed similarly, with none standing out as significantly better. It's clear that there's room for improvement.\n",
        "One possible reason might be that the ChatGPT-generated messages are very human-like, making the distinction challenging. Alternatively, there could be overlapping styles and content between the two categories.\n",
        "\n",
        "Future improvements:\n",
        "\n",
        "Better Data Preprocessing: Perhaps more advanced techniques of cleaning and preparing the data might make it easier for the models to learn.\n",
        "\n",
        "More Complex Models: The neural network model could be expanded with more layers or nodes, potentially improving its learning capacity.\n",
        "\n",
        "Feature Engineering: Extracting more features or information from the text data might help. For instance, looking at the length of messages, punctuation usage, or even the time it took to generate a message could be useful.\n",
        "\n",
        "Ensemble Techniques: Instead of relying on one model, combining the predictions of all four might yield better results.\n",
        "\n",
        "Additional Data: More data always helps! Especially if I can get more varied examples that clearly differentiate between human and ChatGPT messages.\n"
      ]
    },
    {
      "cell_type": "markdown",
      "metadata": {
        "id": "YaY4-S0_Ur24"
      },
      "source": [
        "**Summary of all models' performances**"
      ]
    },
    {
      "cell_type": "markdown",
      "metadata": {
        "id": "2vLj3f0QTU5r"
      },
      "source": [
        "| Model                 | Accuracy | Precision | Recall  | F1 Score |\n",
        "|-----------------------|----------|-----------|---------|----------|\n",
        "| Neural Network        | 52.50%   | 46.25%    | 47.48   | 45.97%        |\n",
        "| Extra Tree Classifier | 52.33%   | 52.85%    | 52.33%  | 52.51%   |\n",
        "| Random Forest         | 52.12%   | 52% (avg) | 52% (avg)| 51% (avg)|\n",
        "| Logistic Regression   | 47.88%   | 48% (avg) | 48% (avg)| 48% (avg)|\n"
      ]
    },
    {
      "cell_type": "markdown",
      "metadata": {
        "id": "eAUvMpvK9I3l"
      },
      "source": [
        "**References**"
      ]
    },
    {
      "cell_type": "markdown",
      "metadata": {
        "id": "qbTcwHPp9jen"
      },
      "source": [
        "Li, S. (2019, February 27). Building a logistic regression in Python, step by step. Medium. https://towardsdatascience.com/building-a-logistic-regression-in-python-step-by-step-becd4d56c9c8\n",
        "\n",
        "Prosise, J. (2023, June 6). Text classification with Neural Networks. Atmosera. https://www.atmosera.com/blog/text-classification-with-neural-networks/\n",
        "\n",
        "R, S. E. (2023, July 5). Understand random forest algorithms with examples (updated 2023). Analytics Vidhya. https://www.analyticsvidhya.com/blog/2021/06/understanding-random-forest/\n",
        "\n",
        "GeeksforGeeks. (2023, May 18). ML: Extra tree classifier for feature selection. GeeksforGeeks. https://www.geeksforgeeks.org/ml-extra-tree-classifier-for-feature-selection/  "
      ]
    }
  ],
  "metadata": {
    "colab": {
      "provenance": []
    },
    "kernelspec": {
      "display_name": "Python 3",
      "name": "python3"
    },
    "language_info": {
      "name": "python"
    }
  },
  "nbformat": 4,
  "nbformat_minor": 0
}
